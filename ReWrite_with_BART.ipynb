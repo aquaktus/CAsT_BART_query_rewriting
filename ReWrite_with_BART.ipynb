{
 "cells": [
  {
   "cell_type": "markdown",
   "metadata": {},
   "source": [
    "# Query Re-writing with BART-FC (Full Context)\n",
    "By Carlos Gemmell (carlos.gemmell@glasgow.ac.uk | Twitter: @aquaktus) & Jeffrey Dalton (Jeff.Dalton@glasgow.ac.uk | Twitter: @JeffD)\n",
    "\n",
    "BART-FC is a re-writer trained on only CAsT 2019. It takes an arbitrary amount of unresoved queries in a conversation and returns all turns fully resolved. BART-FC does this by rewriting each query individually and feeding the resolved query for the next turn. This ensures relevant entities are modeled effectively for each turn and not forgotten.\n",
    "\n",
    "Limitations: BART-FC can suffer from cascading errors since an error early in the conversation can propagate through all later turns. \n",
    "\n",
    "![BART](images/BART_feedback_rewriter.png)"
   ]
  },
  {
   "cell_type": "markdown",
   "metadata": {},
   "source": [
    "### Download the BART-FC checkpoint"
   ]
  },
  {
   "cell_type": "code",
   "execution_count": 8,
   "metadata": {},
   "outputs": [
    {
     "name": "stderr",
     "output_type": "stream",
     "text": [
      "BART_save_dict_fixed.ckpt: 1.63GB [00:38, 42.2MB/s]                                \n"
     ]
    },
    {
     "data": {
      "text/plain": [
       "1625476222"
      ]
     },
     "execution_count": 8,
     "metadata": {},
     "output_type": "execute_result"
    }
   ],
   "source": [
    "from src.useful_utils import download_from_url\n",
    "download_from_url('https://storage.googleapis.com/artifacts.grill-search.appspot.com/model_checkpoints/BART_save_dict_fixed.ckpt', './BART-FC_huggingface.ckpt')"
   ]
  },
  {
   "cell_type": "markdown",
   "metadata": {},
   "source": [
    "### Initialise the the re-writer object"
   ]
  },
  {
   "cell_type": "code",
   "execution_count": 1,
   "metadata": {},
   "outputs": [],
   "source": [
    "from src.text_transforms import *\n",
    "from src.complex_transforms import BART_Query_Rewriter_Transform, BART_Full_Conversational_Rewriter_Transform\n",
    "\n",
    "from tqdm.auto import tqdm \n",
    "%load_ext autoreload\n",
    "%autoreload 2\n",
    "%load_ext line_profiler"
   ]
  },
  {
   "cell_type": "code",
   "execution_count": 2,
   "metadata": {},
   "outputs": [
    {
     "name": "stdout",
     "output_type": "stream",
     "text": [
      "Numericaliser. Ex: 'This is a test' -> [0, 713, 16, 10, 1296, 2]\n",
      "Denumericaliser. Ex: [0,1,2,3,4,5,6,7,8,9] -> <s><pad></s><unk>. the, to and of\n",
      "BERT ReRanker initialised on cuda:0. Batch size 1\n"
     ]
    }
   ],
   "source": [
    "BART_conv_transform = BART_Full_Conversational_Rewriter_Transform(\"BART-FC_huggingface.ckpt\", device=\"cuda:0\")"
   ]
  },
  {
   "cell_type": "markdown",
   "metadata": {},
   "source": [
    "### Single query with context"
   ]
  },
  {
   "cell_type": "code",
   "execution_count": 16,
   "metadata": {},
   "outputs": [
    {
     "name": "stderr",
     "output_type": "stream",
     "text": [
      "BART self feeding rewrites: 100%|██████████| 1/1 [00:00<00:00,  1.21it/s]"
     ]
    },
    {
     "name": "stdout",
     "output_type": "stream",
     "text": [
      "Output:  Were digital cameras around the industrial era?\n"
     ]
    },
    {
     "name": "stderr",
     "output_type": "stream",
     "text": [
      "\n"
     ]
    }
   ],
   "source": [
    "test_samples = [{'previous_queries':['How old are digital cameras?', 'Where were they invented?'],\n",
    "                'unresolved_query':'Were they around the industrial era?'}]\n",
    "\n",
    "eval_raw_samples = BART_conv_transform(test_samples)\n",
    "resolved_query = eval_raw_samples[0]['full_rewritten_queries'][-1]\n",
    "\n",
    "print(\"Output:\", resolved_query)"
   ]
  },
  {
   "cell_type": "markdown",
   "metadata": {},
   "source": [
    "### Fully unresolved conversation with BART-FC"
   ]
  },
  {
   "cell_type": "code",
   "execution_count": 17,
   "metadata": {},
   "outputs": [
    {
     "name": "stdout",
     "output_type": "stream",
     "text": [
      "[' How old are digital cameras?', ' Where were digital cameras invented?', ' Were digital cameras around the industrial era?']\n"
     ]
    }
   ],
   "source": [
    "print(eval_raw_samples[0]['full_rewritten_queries'])"
   ]
  },
  {
   "cell_type": "markdown",
   "metadata": {},
   "source": [
    "### Batched rewriting"
   ]
  },
  {
   "cell_type": "code",
   "execution_count": 20,
   "metadata": {},
   "outputs": [
    {
     "name": "stderr",
     "output_type": "stream",
     "text": [
      "BART self feeding rewrites: 100%|██████████| 2/2 [00:01<00:00,  1.24it/s]\n"
     ]
    }
   ],
   "source": [
    "test_samples = [{'previous_queries':['How old are digital cameras?', 'Where were they invented?'],\n",
    "                'unresolved_query':'Were they around the industrial era?'},\n",
    "               \n",
    "                {'previous_queries':['How do you make raspberry jam?'],\n",
    "                'unresolved_query':'is there a recipe?'}]                       #    <- zero anaphora case!\n",
    "\n",
    "eval_raw_samples = BART_conv_transform(test_samples)"
   ]
  },
  {
   "cell_type": "code",
   "execution_count": 21,
   "metadata": {},
   "outputs": [
    {
     "data": {
      "text/plain": [
       "[{'previous_queries': ['How old are digital cameras?',\n",
       "   'Where were they invented?'],\n",
       "  'unresolved_query': 'Were they around the industrial era?',\n",
       "  'full_rewritten_queries': [' How old are digital cameras?',\n",
       "   ' Where were digital cameras invented?',\n",
       "   ' Were digital cameras around the industrial era?'],\n",
       "  'rewritten_query': ' Were digital cameras around the industrial era?'},\n",
       " {'previous_queries': ['How do you make raspberry jam?'],\n",
       "  'unresolved_query': 'is there a recipe?',\n",
       "  'full_rewritten_queries': [' How do you make raspberry jam?',\n",
       "   ' is there a recipe for raspberry jam.'],\n",
       "  'rewritten_query': ' is there a recipe for raspberry jam.'}]"
      ]
     },
     "execution_count": 21,
     "metadata": {},
     "output_type": "execute_result"
    }
   ],
   "source": [
    "eval_raw_samples"
   ]
  },
  {
   "cell_type": "code",
   "execution_count": null,
   "metadata": {},
   "outputs": [],
   "source": []
  }
 ],
 "metadata": {
  "kernelspec": {
   "display_name": "Python 3",
   "language": "python",
   "name": "python3"
  },
  "language_info": {
   "codemirror_mode": {
    "name": "ipython",
    "version": 3
   },
   "file_extension": ".py",
   "mimetype": "text/x-python",
   "name": "python",
   "nbconvert_exporter": "python",
   "pygments_lexer": "ipython3",
   "version": "3.6.9"
  }
 },
 "nbformat": 4,
 "nbformat_minor": 4
}
